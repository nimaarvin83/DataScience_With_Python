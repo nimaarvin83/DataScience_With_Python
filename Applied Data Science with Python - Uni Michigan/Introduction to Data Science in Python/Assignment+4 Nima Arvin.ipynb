{
 "cells": [
  {
   "cell_type": "markdown",
   "metadata": {},
   "source": [
    "---\n",
    "\n",
    "_You are currently looking at **version 1.1** of this notebook. To download notebooks and datafiles, as well as get help on Jupyter notebooks in the Coursera platform, visit the [Jupyter Notebook FAQ](https://www.coursera.org/learn/python-data-analysis/resources/0dhYG) course resource._\n",
    "\n",
    "---"
   ]
  },
  {
   "cell_type": "code",
   "execution_count": 1,
   "metadata": {},
   "outputs": [],
   "source": [
    "import pandas as pd\n",
    "import numpy as np\n",
    "from scipy.stats import ttest_ind"
   ]
  },
  {
   "cell_type": "markdown",
   "metadata": {},
   "source": [
    "# Assignment 4 - Hypothesis Testing\n",
    "This assignment requires more individual learning than previous assignments - you are encouraged to check out the [pandas documentation](http://pandas.pydata.org/pandas-docs/stable/) to find functions or methods you might not have used yet, or ask questions on [Stack Overflow](http://stackoverflow.com/) and tag them as pandas and python related. And of course, the discussion forums are open for interaction with your peers and the course staff.\n",
    "\n",
    "Definitions:\n",
    "* A _quarter_ is a specific three month period, Q1 is January through March, Q2 is April through June, Q3 is July through September, Q4 is October through December.\n",
    "* A _recession_ is defined as starting with two consecutive quarters of GDP decline, and ending with two consecutive quarters of GDP growth.\n",
    "* A _recession bottom_ is the quarter within a recession which had the lowest GDP.\n",
    "* A _university town_ is a city which has a high percentage of university students compared to the total population of the city.\n",
    "\n",
    "**Hypothesis**: University towns have their mean housing prices less effected by recessions. Run a t-test to compare the ratio of the mean price of houses in university towns the quarter before the recession starts compared to the recession bottom. (`price_ratio=quarter_before_recession/recession_bottom`)\n",
    "\n",
    "The following data files are available for this assignment:\n",
    "* From the [Zillow research data site](http://www.zillow.com/research/data/) there is housing data for the United States. In particular the datafile for [all homes at a city level](http://files.zillowstatic.com/research/public/City/City_Zhvi_AllHomes.csv), ```City_Zhvi_AllHomes.csv```, has median home sale prices at a fine grained level.\n",
    "* From the Wikipedia page on college towns is a list of [university towns in the United States](https://en.wikipedia.org/wiki/List_of_college_towns#College_towns_in_the_United_States) which has been copy and pasted into the file ```university_towns.txt```.\n",
    "* From Bureau of Economic Analysis, US Department of Commerce, the [GDP over time](http://www.bea.gov/national/index.htm#gdp) of the United States in current dollars (use the chained value in 2009 dollars), in quarterly intervals, in the file ```gdplev.xls```. For this assignment, only look at GDP data from the first quarter of 2000 onward.\n",
    "\n",
    "Each function in this assignment below is worth 10%, with the exception of ```run_ttest()```, which is worth 50%."
   ]
  },
  {
   "cell_type": "code",
   "execution_count": 2,
   "metadata": {},
   "outputs": [],
   "source": [
    "# Use this dictionary to map state names to two letter acronyms\n",
    "states = {'OH': 'Ohio', 'KY': 'Kentucky', 'AS': 'American Samoa', 'NV': 'Nevada', 'WY': 'Wyoming', 'NA': 'National', 'AL': 'Alabama', 'MD': 'Maryland', 'AK': 'Alaska', 'UT': 'Utah', 'OR': 'Oregon', 'MT': 'Montana', 'IL': 'Illinois', 'TN': 'Tennessee', 'DC': 'District of Columbia', 'VT': 'Vermont', 'ID': 'Idaho', 'AR': 'Arkansas', 'ME': 'Maine', 'WA': 'Washington', 'HI': 'Hawaii', 'WI': 'Wisconsin', 'MI': 'Michigan', 'IN': 'Indiana', 'NJ': 'New Jersey', 'AZ': 'Arizona', 'GU': 'Guam', 'MS': 'Mississippi', 'PR': 'Puerto Rico', 'NC': 'North Carolina', 'TX': 'Texas', 'SD': 'South Dakota', 'MP': 'Northern Mariana Islands', 'IA': 'Iowa', 'MO': 'Missouri', 'CT': 'Connecticut', 'WV': 'West Virginia', 'SC': 'South Carolina', 'LA': 'Louisiana', 'KS': 'Kansas', 'NY': 'New York', 'NE': 'Nebraska', 'OK': 'Oklahoma', 'FL': 'Florida', 'CA': 'California', 'CO': 'Colorado', 'PA': 'Pennsylvania', 'DE': 'Delaware', 'NM': 'New Mexico', 'RI': 'Rhode Island', 'MN': 'Minnesota', 'VI': 'Virgin Islands', 'NH': 'New Hampshire', 'MA': 'Massachusetts', 'GA': 'Georgia', 'ND': 'North Dakota', 'VA': 'Virginia'}"
   ]
  },
  {
   "cell_type": "code",
   "execution_count": 3,
   "metadata": {
    "umich_part_id": "021",
    "umich_partlist_id": "004"
   },
   "outputs": [],
   "source": [
    "def get_list_of_university_towns():\n",
    "    ut=pd.read_csv('university_towns.txt',header=None,names=['data'])\n",
    "    s=0\n",
    "    State=[]\n",
    "    RegionName=[]\n",
    "    for i in range(0,len(ut)):\n",
    "        if 'edit' in ut['data'][i]:\n",
    "            s=ut['data'][i][:ut['data'][i].find('[')]\n",
    "            ut['data'][i]=ut['data'][i][:ut['data'][i].find('(')]\n",
    "            ut['data'][i]=ut['data'][i][:ut['data'][i].find('[')+1]\n",
    "        State.append(s)\n",
    "        RegionName.append(ut['data'][i][:ut['data'][i].find('(')].strip())\n",
    "    ss=pd.DataFrame(RegionName,State).reset_index()\n",
    "    ss.columns=['State','RegionName']\n",
    "    df1=ss[ss['State']!=ss['RegionName']]\n",
    "    '''Returns a DataFrame of towns and the states they are in from the \n",
    "    university_towns.txt list. The format of the DataFrame should be:\n",
    "    DataFrame( [ [\"Michigan\", \"Ann Arbor\"], [\"Michigan\", \"Yipsilanti\"] ], \n",
    "    columns=[\"State\", \"RegionName\"]  )\n",
    "    \n",
    "    The following cleaning needs to be done:\n",
    "\n",
    "    1. For \"State\", removing characters from \"[\" to the end.\n",
    "    2. For \"RegionName\", when applicable, removing every character from \" (\" to the end.\n",
    "    3. Depending on how you read the data, you may need to remove newline character '\\n'. '''\n",
    "    df2=df1.reset_index().drop('index',axis=1)\n",
    "       \n",
    "    return df2"
   ]
  },
  {
   "cell_type": "code",
   "execution_count": 13,
   "metadata": {
    "umich_part_id": "022",
    "umich_partlist_id": "004"
   },
   "outputs": [],
   "source": [
    "def get_recession_start():\n",
    "    url2='https://www.bea.gov/system/files/2018-05/gdplev_0.xlsx'\n",
    "    df2=pd.read_excel(url2, skiprows=[1,2,3,4,5,6],header=1, index=0, names=['year','GDP1','GDPch1','blank','yearqtr','GDP2','GDPch2','na'])\n",
    "    yr=df2[['year','GDP1','GDPch1']].loc[0:89]\n",
    "    yrqtr=df2[df2['yearqtr']>='2000q1'][['yearqtr','GDP2','GDPch2']].reset_index().drop('index',axis=1)\n",
    "    yrqtr['yearqtr']=[x.lower() for x in yrqtr['yearqtr']]\n",
    "    yrqtr['type']=''\n",
    "    for i in range(0,len(yrqtr)-1):\n",
    "        if yrqtr['GDPch2'].loc[i+1]>yrqtr['GDPch2'].loc[i]:\n",
    "            yrqtr.loc[i+1,'type']='growth'\n",
    "        else:\n",
    "            yrqtr.loc[i+1,'type']='decline'\n",
    "    \n",
    "    res_start=[]\n",
    "    for i in range(0,len(yrqtr)-1):\n",
    "        if yrqtr['type'].iloc[i]=='decline' and yrqtr['type'].iloc[i+1]=='decline' and yrqtr['type'].iloc[i+2]=='growth' and yrqtr['type'].iloc[i+3]=='growth':\n",
    "            j=i\n",
    "            while yrqtr['type'].loc[j]=='decline':\n",
    "                j-=1\n",
    "                \n",
    "            res_start.append(yrqtr['yearqtr'].iloc[j+1])\n",
    "\n",
    "    '''Returns the year and quarter of the recession start time as a \n",
    "    string value in a format such as 2005q3'''\n",
    "    \n",
    "    return res_start[0]"
   ]
  },
  {
   "cell_type": "code",
   "execution_count": 19,
   "metadata": {
    "umich_part_id": "023",
    "umich_partlist_id": "004"
   },
   "outputs": [],
   "source": [
    "def get_recession_end():\n",
    "    '''Returns the year and quarter of the recession end time as a \n",
    "    string value in a format such as 2005q3'''\n",
    "    url2='https://www.bea.gov/system/files/2018-05/gdplev_0.xlsx'\n",
    "    df2=pd.read_excel(url2, skiprows=[1,2,3,4,5,6],header=1, index=0, names=['year','GDP1','GDPch1','blank','yearqtr','GDP2','GDPch2','na'])\n",
    "    yr=df2[['year','GDP1','GDPch1']].loc[0:89]\n",
    "    yrqtr=df2[df2['yearqtr']>='2000q1'][['yearqtr','GDP2','GDPch2']].reset_index().drop('index',axis=1)\n",
    "    yrqtr['yearqtr']=[x.lower() for x in yrqtr['yearqtr']]    \n",
    "    yrqtr['type']=''\n",
    "    for i in range(0,len(yrqtr)-1):\n",
    "        if yrqtr['GDPch2'].loc[i+1]>yrqtr['GDPch2'].loc[i]:\n",
    "            yrqtr.loc[i+1,'type']='growth'\n",
    "        else:\n",
    "            yrqtr.loc[i+1,'type']='decline'\n",
    "    res_start=[]\n",
    "    for i in range(0,len(yrqtr)-1):\n",
    "        if yrqtr['type'].loc[i]=='decline' and yrqtr['type'].loc[i+1]=='decline' and yrqtr['type'].loc[i+2]=='growth' and yrqtr['type'].loc[i+3]=='growth':\n",
    "            res_start.append(yrqtr['yearqtr'].loc[i+3])\n",
    "    '''Returns the year and quarter of the recession start time as a \n",
    "    string value in a format such as 2005q3'''\n",
    "    \n",
    "    return res_start[0]"
   ]
  },
  {
   "cell_type": "code",
   "execution_count": 21,
   "metadata": {
    "umich_part_id": "024",
    "umich_partlist_id": "004"
   },
   "outputs": [],
   "source": [
    "def get_recession_bottom():\n",
    "    url2='https://www.bea.gov/system/files/2018-05/gdplev_0.xlsx'\n",
    "    df2=pd.read_excel(url2, skiprows=[1,2,3,4,5,6],header=1, index=0, names=['year','GDP1','GDPch1','blank','yearqtr','GDP2','GDPch2','na'])\n",
    "    yr=df2[['year','GDP1','GDPch1']].loc[0:89]\n",
    "    yrqtr=df2[df2['yearqtr']>='2000q1'][['yearqtr','GDP2','GDPch2']].reset_index().drop('index',axis=1)\n",
    "    yrqtr['yearqtr']=[x.lower() for x in yrqtr['yearqtr']]    \n",
    "    yrqtr['type']=''\n",
    "    for i in range(0,len(yrqtr)-1):\n",
    "        if yrqtr['GDPch2'].loc[i+1]>yrqtr['GDPch2'].loc[i]:\n",
    "            yrqtr.loc[i+1,'type']='growth'\n",
    "        else:\n",
    "            yrqtr.loc[i+1,'type']='decline'\n",
    "    res_start=[]\n",
    "    for i in range(0,len(yrqtr)-1):\n",
    "        if yrqtr['type'].loc[i]=='decline' and yrqtr['type'].loc[i+1]=='decline' and yrqtr['type'].loc[i+2]=='growth' and yrqtr['type'].loc[i+3]=='growth':\n",
    "            res_start.append(yrqtr['yearqtr'].loc[i+1])\n",
    "    '''Returns the year and quarter of the recession start time as a \n",
    "    string value in a format such as 2005q3'''\n",
    "    \n",
    "    return res_start[0]\n",
    "    \n",
    "    '''Returns the year and quarter of the recession bottom time as a \n",
    "    string value in a format such as 2005q3'''"
   ]
  },
  {
   "cell_type": "code",
   "execution_count": 23,
   "metadata": {
    "umich_part_id": "025",
    "umich_partlist_id": "004"
   },
   "outputs": [],
   "source": [
    "def convert_housing_data_to_quarters():\n",
    "    '''Converts the housing data to quarters and returns it as mean \n",
    "    values in a dataframe. This dataframe should be a dataframe with\n",
    "    columns for 2000q1 through 2016q3, and should have a multi-index\n",
    "    in the shape of [\"State\",\"RegionName\"].\n",
    "    \n",
    "    Note: Quarters are defined in the assignment description, they are\n",
    "    not arbitrary three month periods.\n",
    "    \n",
    "    The resulting dataframe should have 67 columns, and 10,730 rows.\n",
    "    '''\n",
    "    h=pd.read_csv('City_Zhvi_AllHomes.csv')\n",
    "    h=h.drop(['RegionID','Metro','CountyName','SizeRank'],axis=1).set_index(['RegionName','State'])\n",
    "    for i in h.columns:\n",
    "        if int(i[:4])<2000:\n",
    "            h=h.drop(i, axis=1)\n",
    "    def yrqtr(x):\n",
    "        if x[-2:] in ['01','02','03']:\n",
    "            return x[:4]+'q1'\n",
    "        elif x[-2:] in ['04','05','06']:\n",
    "            return x[:4]+'q2'\n",
    "        elif x[-2:] in ['07','08','09']:\n",
    "            return x[:4]+'q3'\n",
    "        elif x[-2:] in ['10','11','12']:\n",
    "            return x[:4]+'q4'\n",
    "        else:\n",
    "            return x\n",
    "\n",
    "    h.columns=h.columns.map(yrqtr)\n",
    "    t=h.transpose()\n",
    "    v=t.groupby(level=0).mean().transpose()\n",
    "    v=v.reset_index()\n",
    "    v['State']=[states[x] for x in v['State']]\n",
    "    v=v.set_index(['State','RegionName'])\n",
    "    return v"
   ]
  },
  {
   "cell_type": "code",
   "execution_count": 26,
   "metadata": {
    "umich_part_id": "026",
    "umich_partlist_id": "004"
   },
   "outputs": [],
   "source": [
    "def run_ttest():\n",
    "    '''First creates new data showing the decline or growth of housing prices\n",
    "    between the recession start and the recession bottom. Then runs a ttest\n",
    "    comparing the university town values to the non-university towns values, \n",
    "    return whether the alternative hypothesis (that the two groups are the same)\n",
    "    is true or not as well as the p-value of the confidence. \n",
    "    \n",
    "    Return the tuple (different, p, better) where different=True if the t-test is\n",
    "    True at a p<0.01 (we reject the null hypothesis), or different=False if \n",
    "    otherwise (we cannot reject the null hypothesis). The variable p should\n",
    "    be equal to the exact p value returned from scipy.stats.ttest_ind(). The\n",
    "    value for better should be either \"university town\" or \"non-university town\"\n",
    "    depending on which has a lower mean price ratio (which is equivilent to a\n",
    "    reduced market loss).'''\n",
    "    ut=get_list_of_university_towns()\n",
    "    hd=convert_housing_data_to_quarters()\n",
    "    st=get_recession_start()\n",
    "    bm=get_recession_bottom()\n",
    "    ed=get_recession_end()\n",
    "    s=[]\n",
    "    for key, value in states.items():\n",
    "        s.append([value,key])\n",
    "    rstate = {v:k for v,k in s}\n",
    "    ut=ut.reset_index()\n",
    "    hd=hd.reset_index()\n",
    "    ut['Stateind']=[rstate[x] for x in ut['State']]\n",
    "    hd['Stateind']=[rstate[y] for y in hd['State']]\n",
    "\n",
    "    ut['cat']=ut['RegionName']+ut['Stateind']\n",
    "    hd['cat']=hd['RegionName']+hd['Stateind']\n",
    "    hd['diff']=hd[bm]-hd[st]\n",
    "    hdr=hd[['cat','diff']]\n",
    "    mydata=hdr.merge(ut,how='outer',left_on=['cat'], right_on=['cat'])\n",
    "    mydata=mydata[pd.isnull(mydata['diff'])==False]\n",
    "    univ=mydata[pd.isnull(mydata['index'])==False]\n",
    "    nonuniv=mydata[pd.isnull(mydata['index'])==True]\n",
    "    from scipy import stats\n",
    "    t=stats.ttest_ind(univ['diff'],nonuniv['diff'])\n",
    "    if t[1]<=0.01:\n",
    "        different=True\n",
    "        better='university town'\n",
    "    else:\n",
    "        different=False\n",
    "        better='non-university town'\n",
    "\n",
    "    return (different, t[1],better )"
   ]
  }
 ],
 "metadata": {
  "coursera": {
   "course_slug": "python-data-analysis",
   "graded_item_id": "Il9Fx",
   "launcher_item_id": "TeDW0",
   "part_id": "WGlun"
  },
  "kernelspec": {
   "display_name": "Python 3",
   "language": "python",
   "name": "python3"
  },
  "language_info": {
   "codemirror_mode": {
    "name": "ipython",
    "version": 3
   },
   "file_extension": ".py",
   "mimetype": "text/x-python",
   "name": "python",
   "nbconvert_exporter": "python",
   "pygments_lexer": "ipython3",
   "version": "3.7.1"
  },
  "umich": {
   "id": "Assignment 4",
   "version": "1.1"
  }
 },
 "nbformat": 4,
 "nbformat_minor": 1
}
